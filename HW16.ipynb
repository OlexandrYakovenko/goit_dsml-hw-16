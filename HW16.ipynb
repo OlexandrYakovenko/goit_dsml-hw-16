{
  "nbformat": 4,
  "nbformat_minor": 0,
  "metadata": {
    "colab": {
      "provenance": []
    },
    "kernelspec": {
      "name": "python3",
      "display_name": "Python 3"
    },
    "language_info": {
      "name": "python"
    }
  },
  "cells": [
    {
      "cell_type": "code",
      "execution_count": null,
      "metadata": {
        "id": "acfDNGU53fjs"
      },
      "outputs": [],
      "source": [
        "\n",
        "import tensorflow as tf\n",
        "import matplotlib.pyplot as plt\n",
        "from sklearn.model_selection import train_test_split\n",
        "import numpy as np\n",
        "from sklearn.metrics import classification_report\n",
        "from keras import layers\n",
        "from keras import models\n",
        "from tensorflow.keras.preprocessing.image import ImageDataGenerator"
      ]
    },
    {
      "cell_type": "code",
      "source": [
        "# Завантаження датасету Fashion MNIST\n",
        "fashion_mnist = tf.keras.datasets.fashion_mnist\n",
        "(train_images, train_labels), (test_images, test_labels) = fashion_mnist.load_data()\n",
        "\n",
        "# Перевірка форми даних\n",
        "print(\"Train images shape:\", train_images.shape)\n",
        "print(\"Train labels shape:\", train_labels.shape)\n",
        "print(\"Test images shape:\", test_images.shape)\n",
        "print(\"Test labels shape:\", test_labels.shape)"
      ],
      "metadata": {
        "colab": {
          "base_uri": "https://localhost:8080/"
        },
        "id": "blePhgLK4C3u",
        "outputId": "3d7012ef-996a-49eb-9f26-30df4b08de1e"
      },
      "execution_count": null,
      "outputs": [
        {
          "output_type": "stream",
          "name": "stdout",
          "text": [
            "Downloading data from https://storage.googleapis.com/tensorflow/tf-keras-datasets/train-labels-idx1-ubyte.gz\n",
            "29515/29515 [==============================] - 0s 0us/step\n",
            "Downloading data from https://storage.googleapis.com/tensorflow/tf-keras-datasets/train-images-idx3-ubyte.gz\n",
            "26421880/26421880 [==============================] - 0s 0us/step\n",
            "Downloading data from https://storage.googleapis.com/tensorflow/tf-keras-datasets/t10k-labels-idx1-ubyte.gz\n",
            "5148/5148 [==============================] - 0s 0us/step\n",
            "Downloading data from https://storage.googleapis.com/tensorflow/tf-keras-datasets/t10k-images-idx3-ubyte.gz\n",
            "4422102/4422102 [==============================] - 0s 0us/step\n",
            "Train images shape: (60000, 28, 28)\n",
            "Train labels shape: (60000,)\n",
            "Test images shape: (10000, 28, 28)\n",
            "Test labels shape: (10000,)\n"
          ]
        }
      ]
    },
    {
      "cell_type": "code",
      "source": [
        "# Візуалізація першого зображення з тренувального датасету\n",
        "plt.figure()\n",
        "plt.imshow(train_images[0], cmap='gray')\n",
        "plt.colorbar()\n",
        "plt.grid(False)\n",
        "plt.show()"
      ],
      "metadata": {
        "colab": {
          "base_uri": "https://localhost:8080/",
          "height": 430
        },
        "id": "s61OOWWj4GTe",
        "outputId": "22a46378-2608-43f0-da6a-d54edb32cc5b"
      },
      "execution_count": null,
      "outputs": [
        {
          "output_type": "display_data",
          "data": {
            "text/plain": [
              "<Figure size 640x480 with 2 Axes>"
            ],
            "image/png": "[encoded data removed]"
          },
          "metadata": {}
        }
      ]
    },
    {
      "cell_type": "code",
      "source": [
        "# Нормалізація значень пікселів до діапазону [0, 1]\n",
        "train_images = train_images / 255.0\n",
        "test_images = test_images / 255.0\n"
      ],
      "metadata": {
        "id": "dQirtD6d4KxH"
      },
      "execution_count": null,
      "outputs": []
    },
    {
      "cell_type": "code",
      "source": [
        "# Зміна форми зображень для відповідності вхідному формату Conv2D\n",
        "train_images = train_images.reshape((train_images.shape[0], 28, 28, 1))\n",
        "test_images = test_images.reshape((test_images.shape[0], 28, 28, 1))\n"
      ],
      "metadata": {
        "id": "6bIU45Y64Ndm"
      },
      "execution_count": null,
      "outputs": []
    },
    {
      "cell_type": "code",
      "source": [
        "# Розділення тренувального набору на тренувальний та валідаційний\n",
        "train_images, val_images, train_labels, val_labels = train_test_split(\n",
        "    train_images, train_labels, test_size=0.2, random_state=42)"
      ],
      "metadata": {
        "id": "h-QPfVJQ4P9n"
      },
      "execution_count": null,
      "outputs": []
    },
    {
      "cell_type": "code",
      "source": [
        "# Перетворення міток у формат one-hot encoding\n",
        "train_labels = tf.keras.utils.to_categorical(train_labels, num_classes=10)\n",
        "val_labels = tf.keras.utils.to_categorical(val_labels, num_classes=10)\n",
        "test_labels = tf.keras.utils.to_categorical(test_labels, num_classes=10)\n"
      ],
      "metadata": {
        "id": "Ok_VuETx4SVH"
      },
      "execution_count": null,
      "outputs": []
    },
    {
      "cell_type": "code",
      "source": [
        "# Перевірка форм даних після перетворення\n",
        "print(\"Train images shape:\", train_images.shape)\n",
        "print(\"Validation images shape:\", val_images.shape)\n",
        "print(\"Test images shape:\", test_images.shape)\n",
        "print(\"Train labels shape:\", train_labels.shape)\n",
        "print(\"Validation labels shape:\", val_labels.shape)\n",
        "print(\"Test labels shape:\", test_labels.shape)"
      ],
      "metadata": {
        "colab": {
          "base_uri": "https://localhost:8080/"
        },
        "id": "qlJHGCrp4UkH",
        "outputId": "c1edbe46-371a-4732-c29d-d09795f83866"
      },
      "execution_count": null,
      "outputs": [
        {
          "output_type": "stream",
          "name": "stdout",
          "text": [
            "Train images shape: (48000, 28, 28, 1)\n",
            "Validation images shape: (12000, 28, 28, 1)\n",
            "Test images shape: (10000, 28, 28, 1)\n",
            "Train labels shape: (48000, 10)\n",
            "Validation labels shape: (12000, 10)\n",
            "Test labels shape: (10000, 10)\n"
          ]
        }
      ]
    },
    {
      "cell_type": "code",
      "source": [
        "model_conv = tf.keras.Sequential([\n",
        "    tf.keras.layers.Conv2D(32, (3, 3), activation='relu', input_shape=(28, 28, 1)),\n",
        "    tf.keras.layers.MaxPooling2D((2, 2)),\n",
        "    tf.keras.layers.Conv2D(64, (3, 3), activation='relu'),\n",
        "    tf.keras.layers.MaxPooling2D((2, 2)),\n",
        "    tf.keras.layers.Conv2D(64, (3, 3), activation='relu'),\n",
        "    tf.keras.layers.GlobalMaxPooling2D(),\n",
        "    tf.keras.layers.Dropout(0.25),  # Додаємо Dropout\n",
        "    tf.keras.layers.BatchNormalization(),  # Додаємо BatchNormalization\n",
        "    tf.keras.layers.Dense(64, activation='relu'),\n",
        "    tf.keras.layers.Dense(10, activation='softmax')\n",
        "])\n"
      ],
      "metadata": {
        "id": "OCi2D-cR4W4A"
      },
      "execution_count": null,
      "outputs": []
    },
    {
      "cell_type": "code",
      "source": [
        "# Компіляція моделі\n",
        "model_conv.compile(optimizer='Adam',\n",
        "              loss='categorical_crossentropy',\n",
        "              metrics=['accuracy'])"
      ],
      "metadata": {
        "id": "Gd97C76d4aNh"
      },
      "execution_count": null,
      "outputs": []
    },
    {
      "cell_type": "code",
      "source": [
        "model_conv.summary()"
      ],
      "metadata": {
        "colab": {
          "base_uri": "https://localhost:8080/"
        },
        "id": "fd7H2OhP4cio",
        "outputId": "6ec65c79-b9ec-4e5f-810a-8689f66433e0"
      },
      "execution_count": null,
      "outputs": [
        {
          "output_type": "stream",
          "name": "stdout",
          "text": [
            "Model: \"sequential\"\n",
            "_________________________________________________________________\n",
            " Layer (type)                Output Shape              Param #   \n",
            "=================================================================\n",
            " conv2d (Conv2D)             (None, 26, 26, 32)        320       \n",
            "                                                                 \n",
            " max_pooling2d (MaxPooling2  (None, 13, 13, 32)        0         \n",
            " D)                                                              \n",
            "                                                                 \n",
            " conv2d_1 (Conv2D)           (None, 11, 11, 64)        18496     \n",
            "                                                                 \n",
            " max_pooling2d_1 (MaxPoolin  (None, 5, 5, 64)          0         \n",
            " g2D)                                                            \n",
            "                                                                 \n",
            " conv2d_2 (Conv2D)           (None, 3, 3, 64)          36928     \n",
            "                                                                 \n",
            " global_max_pooling2d (Glob  (None, 64)                0         \n",
            " alMaxPooling2D)                                                 \n",
            "                                                                 \n",
            " dropout (Dropout)           (None, 64)                0         \n",
            "                                                                 \n",
            " batch_normalization (Batch  (None, 64)                256       \n",
            " Normalization)                                                  \n",
            "                                                                 \n",
            " dense (Dense)               (None, 64)                4160      \n",
            "                                                                 \n",
            " dense_1 (Dense)             (None, 10)                650       \n",
            "                                                                 \n",
            "=================================================================\n",
            "Total params: 60810 (237.54 KB)\n",
            "Trainable params: 60682 (237.04 KB)\n",
            "Non-trainable params: 128 (512.00 Byte)\n",
            "_________________________________________________________________\n"
          ]
        }
      ]
    },
    {
      "cell_type": "code",
      "source": [
        "history = model_conv.fit(train_images, train_labels, epochs=15, validation_data=(val_images, val_labels))"
      ],
      "metadata": {
        "colab": {
          "base_uri": "https://localhost:8080/"
        },
        "id": "T-ND3ZMe4eiA",
        "outputId": "d5a8150d-568e-485c-ed9b-35c2fff4cb47"
      },
      "execution_count": null,
      "outputs": [
        {
          "output_type": "stream",
          "name": "stdout",
          "text": [
            "Epoch 1/15\n",
            "1500/1500 [==============================] - 52s 33ms/step - loss: 0.5912 - accuracy: 0.7844 - val_loss: 0.4233 - val_accuracy: 0.8415\n",
            "Epoch 2/15\n",
            "1500/1500 [==============================] - 49s 33ms/step - loss: 0.4150 - accuracy: 0.8481 - val_loss: 0.3258 - val_accuracy: 0.8780\n",
            "Epoch 3/15\n",
            "1500/1500 [==============================] - 47s 32ms/step - loss: 0.3696 - accuracy: 0.8633 - val_loss: 0.3049 - val_accuracy: 0.8865\n",
            "Epoch 4/15\n",
            "1500/1500 [==============================] - 48s 32ms/step - loss: 0.3370 - accuracy: 0.8770 - val_loss: 0.2965 - val_accuracy: 0.8903\n",
            "Epoch 5/15\n",
            "1500/1500 [==============================] - 48s 32ms/step - loss: 0.3164 - accuracy: 0.8846 - val_loss: 0.2938 - val_accuracy: 0.8913\n",
            "Epoch 6/15\n",
            "1500/1500 [==============================] - 47s 31ms/step - loss: 0.3003 - accuracy: 0.8911 - val_loss: 0.3081 - val_accuracy: 0.8833\n",
            "Epoch 7/15\n",
            "1500/1500 [==============================] - 50s 33ms/step - loss: 0.2849 - accuracy: 0.8951 - val_loss: 0.2724 - val_accuracy: 0.9000\n",
            "Epoch 8/15\n",
            "1500/1500 [==============================] - 51s 34ms/step - loss: 0.2785 - accuracy: 0.8979 - val_loss: 0.2701 - val_accuracy: 0.8984\n",
            "Epoch 9/15\n",
            "1500/1500 [==============================] - 51s 34ms/step - loss: 0.2657 - accuracy: 0.9030 - val_loss: 0.2684 - val_accuracy: 0.9014\n",
            "Epoch 10/15\n",
            "1500/1500 [==============================] - 49s 33ms/step - loss: 0.2574 - accuracy: 0.9058 - val_loss: 0.2765 - val_accuracy: 0.8979\n",
            "Epoch 11/15\n",
            "1500/1500 [==============================] - 49s 33ms/step - loss: 0.2499 - accuracy: 0.9083 - val_loss: 0.2494 - val_accuracy: 0.9076\n",
            "Epoch 12/15\n",
            "1500/1500 [==============================] - 49s 33ms/step - loss: 0.2421 - accuracy: 0.9102 - val_loss: 0.2552 - val_accuracy: 0.9041\n",
            "Epoch 13/15\n",
            "1500/1500 [==============================] - 49s 33ms/step - loss: 0.2356 - accuracy: 0.9148 - val_loss: 0.2965 - val_accuracy: 0.8948\n",
            "Epoch 14/15\n",
            "1500/1500 [==============================] - 49s 33ms/step - loss: 0.2342 - accuracy: 0.9139 - val_loss: 0.2533 - val_accuracy: 0.9092\n",
            "Epoch 15/15\n",
            "1500/1500 [==============================] - 49s 33ms/step - loss: 0.2235 - accuracy: 0.9181 - val_loss: 0.2528 - val_accuracy: 0.9089\n"
          ]
        }
      ]
    },
    {
      "cell_type": "code",
      "source": [
        "test_loss, test_acc = model_conv.evaluate(test_images, test_labels, verbose=2)"
      ],
      "metadata": {
        "colab": {
          "base_uri": "https://localhost:8080/"
        },
        "id": "dHWEjcr94kUR",
        "outputId": "854f28d2-2c7d-49be-c81a-b68c3fc7a7b5"
      },
      "execution_count": null,
      "outputs": [
        {
          "output_type": "stream",
          "name": "stdout",
          "text": [
            "313/313 - 3s - loss: 0.2761 - accuracy: 0.9053 - 3s/epoch - 8ms/step\n"
          ]
        }
      ]
    },
    {
      "cell_type": "code",
      "source": [
        "\n",
        "# Побудова графіку точності\n",
        "plt.figure(figsize=(12, 4))\n",
        "plt.subplot(1, 2, 1)\n",
        "plt.plot(history.history['accuracy'], \"g\", label='Точність на тренуванні')\n",
        "plt.plot(history.history['val_accuracy'], \"bo\", label='Точність на валідації')\n",
        "plt.xlabel('Епоха')\n",
        "plt.ylabel('Точність')\n",
        "plt.title('Точність тренування та валідації')\n",
        "plt.legend()\n",
        "\n",
        "# Додавання тестової точності до графіку\n",
        "plt.scatter(len(history.history['accuracy']), test_acc, label='Точність на тесті', color='red')\n",
        "plt.legend()\n",
        "\n",
        "# Побудова графіку втрат\n",
        "plt.subplot(1, 2, 2)\n",
        "plt.plot(history.history['loss'], \"g\", label='Втрати на тренуванні')\n",
        "plt.plot(history.history['val_loss'], \"bo\", label='Втрати на валідації')\n",
        "plt.xlabel('Епоха')\n",
        "plt.ylabel('Втрати')\n",
        "plt.title('Втрати тренування та валідації')\n",
        "plt.legend()"
      ],
      "metadata": {
        "colab": {
          "base_uri": "https://localhost:8080/",
          "height": 427
        },
        "id": "BlfFaMeW4lMo",
        "outputId": "c2b20375-afa8-4874-dbed-c83ed21664f4"
      },
      "execution_count": null,
      "outputs": [
        {
          "output_type": "execute_result",
          "data": {
            "text/plain": [
              "<matplotlib.legend.Legend at 0x7b797f73cbe0>"
            ]
          },
          "metadata": {},
          "execution_count": 16
        },
        {
          "output_type": "display_data",
          "data": {
            "text/plain": [
              "<Figure size 1200x400 with 2 Axes>"
            ],
            "image/png": "[encoded data removed]"
          },
          "metadata": {}
        }
      ]
    },
    {
      "cell_type": "code",
      "source": [
        "\n",
        "# Отримання передбачень для тестових даних\n",
        "predictions = model_conv.predict(test_images)\n",
        "predicted_classes = np.argmax(predictions, axis=1)\n",
        "\n",
        "# Отримання індексу класу для кожного зображення\n",
        "true_classes = np.argmax(test_labels, axis=1)\n",
        "\n",
        "# Генерація classification report\n",
        "report = classification_report(true_classes, predicted_classes)\n",
        "\n",
        "# Вивід результатів\n",
        "print(report)"
      ],
      "metadata": {
        "colab": {
          "base_uri": "https://localhost:8080/"
        },
        "id": "F8f9jApw4nw7",
        "outputId": "06e3b038-2931-461a-b26b-80c90e8df77c"
      },
      "execution_count": null,
      "outputs": [
        {
          "output_type": "stream",
          "name": "stdout",
          "text": [
            "313/313 [==============================] - 3s 8ms/step\n",
            "              precision    recall  f1-score   support\n",
            "\n",
            "           0       0.85      0.86      0.86      1000\n",
            "           1       0.99      0.98      0.98      1000\n",
            "           2       0.82      0.89      0.86      1000\n",
            "           3       0.91      0.91      0.91      1000\n",
            "           4       0.83      0.87      0.85      1000\n",
            "           5       0.98      0.98      0.98      1000\n",
            "           6       0.75      0.66      0.70      1000\n",
            "           7       0.94      0.99      0.96      1000\n",
            "           8       0.98      0.97      0.98      1000\n",
            "           9       0.99      0.94      0.97      1000\n",
            "\n",
            "    accuracy                           0.91     10000\n",
            "   macro avg       0.91      0.91      0.90     10000\n",
            "weighted avg       0.91      0.91      0.90     10000\n",
            "\n"
          ]
        }
      ]
    },
    {
      "cell_type": "code",
      "source": [
        "class_names = ['T-shirt/top', 'Trouser', 'Pullover', 'Dress', 'Coat',\n",
        "               'Sandal', 'Shirt', 'Sneaker', 'Bag', 'Ankle boot']\n",
        "\n",
        "# Виведення номерів і назв класів\n",
        "for idx, class_name in enumerate(class_names):\n",
        "    print(f'Номер: {idx}, Назва: {class_name}')"
      ],
      "metadata": {
        "colab": {
          "base_uri": "https://localhost:8080/"
        },
        "id": "EnQmVUy_4tG6",
        "outputId": "5eb0f865-4c1f-4bf7-909a-3e41585597c0"
      },
      "execution_count": null,
      "outputs": [
        {
          "output_type": "stream",
          "name": "stdout",
          "text": [
            "Номер: 0, Назва: T-shirt/top\n",
            "Номер: 1, Назва: Trouser\n",
            "Номер: 2, Назва: Pullover\n",
            "Номер: 3, Назва: Dress\n",
            "Номер: 4, Назва: Coat\n",
            "Номер: 5, Назва: Sandal\n",
            "Номер: 6, Назва: Shirt\n",
            "Номер: 7, Назва: Sneaker\n",
            "Номер: 8, Назва: Bag\n",
            "Номер: 9, Назва: Ankle boot\n"
          ]
        }
      ]
    },
    {
      "cell_type": "code",
      "source": [
        "num_images = 5\n",
        "indices = np.random.choice(len(test_images), num_images, replace=False)\n",
        "\n",
        "for idx in indices:\n",
        "    image = test_images[idx]\n",
        "    true_label = test_labels[idx]\n",
        "\n",
        "    # Make predictions\n",
        "    y_pred_prob = model_conv.predict(np.expand_dims(image, axis=0))\n",
        "    predicted_label = np.argmax(y_pred_prob)\n",
        "\n",
        "    plt.figure(figsize=(3, 3))\n",
        "    plt.imshow(image, cmap='gray')\n",
        "    plt.axis('off')\n",
        "    plt.title(f'True: {true_label}, Predicted: {predicted_label}')\n",
        "    plt.show()\n",
        "\n",
        "    print('Class probabilities:')\n",
        "    for class_idx, prob in enumerate(y_pred_prob[0]):\n",
        "        print(f'Class {class_idx}: {prob:.4f}')\n"
      ],
      "metadata": {
        "colab": {
          "base_uri": "https://localhost:8080/",
          "height": 1000
        },
        "id": "ax0zzZB-4t17",
        "outputId": "152eb506-724a-44b6-a28f-10ed624d01aa"
      },
      "execution_count": null,
      "outputs": [
        {
          "output_type": "stream",
          "name": "stdout",
          "text": [
            "1/1 [==============================] - 0s 32ms/step\n"
          ]
        },
        {
          "output_type": "display_data",
          "data": {
            "text/plain": [
              "<Figure size 300x300 with 1 Axes>"
            ],
            "image/png": "[encoded data removed]"
          },
          "metadata": {}
        },
        {
          "output_type": "stream",
          "name": "stdout",
          "text": [
            "Class probabilities:\n",
            "Class 0: 0.0280\n",
            "Class 1: 0.0040\n",
            "Class 2: 0.6285\n",
            "Class 3: 0.0013\n",
            "Class 4: 0.0490\n",
            "Class 5: 0.0000\n",
            "Class 6: 0.2762\n",
            "Class 7: 0.0000\n",
            "Class 8: 0.0129\n",
            "Class 9: 0.0001\n",
            "1/1 [==============================] - 0s 44ms/step\n"
          ]
        },
        {
          "output_type": "display_data",
          "data": {
            "text/plain": [
              "<Figure size 300x300 with 1 Axes>"
            ],
            "image/png": "[encoded data removed]"
          },
          "metadata": {}
        },
        {
          "output_type": "stream",
          "name": "stdout",
          "text": [
            "Class probabilities:\n",
            "Class 0: 0.0000\n",
            "Class 1: 0.0000\n",
            "Class 2: 0.0000\n",
            "Class 3: 0.0000\n",
            "Class 4: 0.0000\n",
            "Class 5: 0.0001\n",
            "Class 6: 0.0000\n",
            "Class 7: 0.0001\n",
            "Class 8: 0.0000\n",
            "Class 9: 0.9998\n",
            "1/1 [==============================] - 0s 32ms/step\n"
          ]
        },
        {
          "output_type": "display_data",
          "data": {
            "text/plain": [
              "<Figure size 300x300 with 1 Axes>"
            ],
            "image/png": "[encoded data removed]"
          },
          "metadata": {}
        },
        {
          "output_type": "stream",
          "name": "stdout",
          "text": [
            "Class probabilities:\n",
            "Class 0: 0.0000\n",
            "Class 1: 0.0000\n",
            "Class 2: 0.0000\n",
            "Class 3: 0.0000\n",
            "Class 4: 0.0000\n",
            "Class 5: 0.0001\n",
            "Class 6: 0.0000\n",
            "Class 7: 0.0150\n",
            "Class 8: 0.0000\n",
            "Class 9: 0.9849\n",
            "1/1 [==============================] - 0s 29ms/step\n"
          ]
        },
        {
          "output_type": "display_data",
          "data": {
            "text/plain": [
              "<Figure size 300x300 with 1 Axes>"
            ],
            "image/png": "[encoded data removed]"
          },
          "metadata": {}
        },
        {
          "output_type": "stream",
          "name": "stdout",
          "text": [
            "Class probabilities:\n",
            "Class 0: 0.0064\n",
            "Class 1: 0.0000\n",
            "Class 2: 0.3738\n",
            "Class 3: 0.6090\n",
            "Class 4: 0.0058\n",
            "Class 5: 0.0000\n",
            "Class 6: 0.0050\n",
            "Class 7: 0.0000\n",
            "Class 8: 0.0000\n",
            "Class 9: 0.0000\n",
            "1/1 [==============================] - 0s 32ms/step\n"
          ]
        },
        {
          "output_type": "display_data",
          "data": {
            "text/plain": [
              "<Figure size 300x300 with 1 Axes>"
            ],
            "image/png": "[encoded data removed]"
          },
          "metadata": {}
        },
        {
          "output_type": "stream",
          "name": "stdout",
          "text": [
            "Class probabilities:\n",
            "Class 0: 0.0000\n",
            "Class 1: 0.0000\n",
            "Class 2: 0.0244\n",
            "Class 3: 0.0000\n",
            "Class 4: 0.9711\n",
            "Class 5: 0.0000\n",
            "Class 6: 0.0044\n",
            "Class 7: 0.0000\n",
            "Class 8: 0.0000\n",
            "Class 9: 0.0000\n"
          ]
        }
      ]
    },
    {
      "cell_type": "code",
      "source": [
        "model_conv.save (\"fashion_mnist_model_conv.h5\")"
      ],
      "metadata": {
        "colab": {
          "base_uri": "https://localhost:8080/"
        },
        "id": "jFdX6hDK4w3y",
        "outputId": "2f2af555-9088-49bd-d524-d025539cb70b"
      },
      "execution_count": null,
      "outputs": [
        {
          "output_type": "stream",
          "name": "stderr",
          "text": [
            "/usr/local/lib/python3.10/dist-packages/keras/src/engine/training.py:3103: UserWarning: You are saving your model as an HDF5 file via `model.save()`. This file format is considered legacy. We recommend using instead the native Keras format, e.g. `model.save('my_model.keras')`.\n",
            "  saving_api.save_model(\n"
          ]
        }
      ]
    },
    {
      "cell_type": "code",
      "source": [
        "import pickle"
      ],
      "metadata": {
        "id": "z79--R_A40wj"
      },
      "execution_count": null,
      "outputs": []
    },
    {
      "cell_type": "code",
      "source": [
        "# Збереження історії навчання\n",
        "with open('fashion_mnist_model_conv_history.pkl', 'wb') as f:\n",
        "    pickle.dump(history.history, f)"
      ],
      "metadata": {
        "id": "es7UKgbv43rD"
      },
      "execution_count": null,
      "outputs": []
    },
    {
      "cell_type": "code",
      "source": [
        "from google.colab import files\n",
        "\n",
        "# Завантаження моделі у форматі HDF5\n",
        "files.download('fashion_mnist_model_conv.h5')"
      ],
      "metadata": {
        "colab": {
          "base_uri": "https://localhost:8080/",
          "height": 17
        },
        "id": "H--TFVf4456j",
        "outputId": "b85a4d2e-88e1-47fc-b296-204991637319"
      },
      "execution_count": null,
      "outputs": [
        {
          "output_type": "display_data",
          "data": {
            "text/plain": [
              "<IPython.core.display.Javascript object>"
            ],
            "application/javascript": [
              "\n",
              "    async function download(id, filename, size) {\n",
              "      if (!google.colab.kernel.accessAllowed) {\n",
              "        return;\n",
              "      }\n",
              "      const div = document.createElement('div');\n",
              "      const label = document.createElement('label');\n",
              "      label.textContent = `Downloading \"${filename}\": `;\n",
              "      div.appendChild(label);\n",
              "      const progress = document.createElement('progress');\n",
              "      progress.max = size;\n",
              "      div.appendChild(progress);\n",
              "      document.body.appendChild(div);\n",
              "\n",
              "      const buffers = [];\n",
              "      let downloaded = 0;\n",
              "\n",
              "      const channel = await google.colab.kernel.comms.open(id);\n",
              "      // Send a message to notify the kernel that we're ready.\n",
              "      channel.send({})\n",
              "\n",
              "      for await (const message of channel.messages) {\n",
              "        // Send a message to notify the kernel that we're ready.\n",
              "        channel.send({})\n",
              "        if (message.buffers) {\n",
              "          for (const buffer of message.buffers) {\n",
              "            buffers.push(buffer);\n",
              "            downloaded += buffer.byteLength;\n",
              "            progress.value = downloaded;\n",
              "          }\n",
              "        }\n",
              "      }\n",
              "      const blob = new Blob(buffers, {type: 'application/binary'});\n",
              "      const a = document.createElement('a');\n",
              "      a.href = window.URL.createObjectURL(blob);\n",
              "      a.download = filename;\n",
              "      div.appendChild(a);\n",
              "      a.click();\n",
              "      div.remove();\n",
              "    }\n",
              "  "
            ]
          },
          "metadata": {}
        },
        {
          "output_type": "display_data",
          "data": {
            "text/plain": [
              "<IPython.core.display.Javascript object>"
            ],
            "application/javascript": [
              "download(\"download_d63897b9-fa3a-470f-b66a-8318d2521e76\", \"fashion_mnist_model_conv.h5\", 788424)"
            ]
          },
          "metadata": {}
        }
      ]
    },
    {
      "cell_type": "code",
      "source": [
        "\n",
        "from tensorflow.keras.models import load_model\n",
        "\n",
        "# model_vgg16_loaded = load_model(\"fashion_mnist_model_VGG16.h5\")\n",
        "model_vgg16_loaded = load_model(\"/content/fashion_mnist_model_conv.h5\")\n",
        "model_vgg16_loaded.summary()"
      ],
      "metadata": {
        "colab": {
          "base_uri": "https://localhost:8080/"
        },
        "id": "plv2E8em5XRW",
        "outputId": "c2bc4f15-9fe7-4aae-fbe1-7a4815e373e4"
      },
      "execution_count": null,
      "outputs": [
        {
          "output_type": "stream",
          "name": "stdout",
          "text": [
            "Model: \"sequential\"\n",
            "_________________________________________________________________\n",
            " Layer (type)                Output Shape              Param #   \n",
            "=================================================================\n",
            " conv2d (Conv2D)             (None, 26, 26, 32)        320       \n",
            "                                                                 \n",
            " max_pooling2d (MaxPooling2  (None, 13, 13, 32)        0         \n",
            " D)                                                              \n",
            "                                                                 \n",
            " conv2d_1 (Conv2D)           (None, 11, 11, 64)        18496     \n",
            "                                                                 \n",
            " max_pooling2d_1 (MaxPoolin  (None, 5, 5, 64)          0         \n",
            " g2D)                                                            \n",
            "                                                                 \n",
            " conv2d_2 (Conv2D)           (None, 3, 3, 64)          36928     \n",
            "                                                                 \n",
            " global_max_pooling2d (Glob  (None, 64)                0         \n",
            " alMaxPooling2D)                                                 \n",
            "                                                                 \n",
            " dropout (Dropout)           (None, 64)                0         \n",
            "                                                                 \n",
            " batch_normalization (Batch  (None, 64)                256       \n",
            " Normalization)                                                  \n",
            "                                                                 \n",
            " dense (Dense)               (None, 64)                4160      \n",
            "                                                                 \n",
            " dense_1 (Dense)             (None, 10)                650       \n",
            "                                                                 \n",
            "=================================================================\n",
            "Total params: 60810 (237.54 KB)\n",
            "Trainable params: 60682 (237.04 KB)\n",
            "Non-trainable params: 128 (512.00 Byte)\n",
            "_________________________________________________________________\n"
          ]
        }
      ]
    },
    {
      "cell_type": "code",
      "source": [
        "# # Збереження стану оптимізатора\n",
        "# optimizer_state = model_conv.optimizer.get_weights()\n",
        "# with open('optimizer_state_fashion_mnist_model_conv.pkl', 'wb') as f:\n",
        "#     pickle.dump(optimizer_state, f)\n",
        "\n",
        "# Або лише збереження стану оптимізатора\n",
        "optimizer_state = model_conv.optimizer.variables()\n",
        "with open('optimizer_state_fashion_mnist_model_conv.pkl', 'wb') as f:\n",
        "    pickle.dump([v.numpy() for v in optimizer_state], f)"
      ],
      "metadata": {
        "id": "CRqlhIahgHnb"
      },
      "execution_count": null,
      "outputs": []
    }
  ]
}