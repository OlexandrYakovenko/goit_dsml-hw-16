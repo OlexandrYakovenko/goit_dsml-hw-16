{
  "nbformat": 4,
  "nbformat_minor": 0,
  "metadata": {
    "colab": {
      "provenance": [],
      "gpuType": "T4"
    },
    "kernelspec": {
      "name": "python3",
      "display_name": "Python 3"
    },
    "language_info": {
      "name": "python"
    },
    "accelerator": "GPU"
  },
  "cells": [
    {
      "cell_type": "code",
      "execution_count": 1,
      "metadata": {
        "colab": {
          "base_uri": "https://localhost:8080/"
        },
        "id": "hpg_Rll2m8BQ",
        "outputId": "9f1896b7-47c4-43f0-d97c-0c4c9c625892"
      },
      "outputs": [
        {
          "output_type": "stream",
          "name": "stdout",
          "text": [
            "TensorFlow version: 2.15.0\n",
            "Keras version: 2.15.0\n"
          ]
        }
      ],
      "source": [
        "import numpy as np\n",
        "import tensorflow as tf\n",
        "# from tensorflow.keras.datasets import fashion_mnist\n",
        "from tensorflow.keras.models import Model\n",
        "from tensorflow.keras.layers import Dense, Flatten, Dropout\n",
        "from tensorflow.keras.applications import VGG16\n",
        "from tensorflow.keras.applications.vgg16 import preprocess_input\n",
        "from tensorflow.keras.preprocessing.image import ImageDataGenerator\n",
        "from tensorflow.keras.utils import to_categorical\n",
        "from tensorflow.keras import models, layers\n",
        "import keras\n",
        "\n",
        "fashion_mnist = tf.keras.datasets.fashion_mnist\n",
        "\n",
        "print(f\"TensorFlow version: {tf.__version__}\")\n",
        "print(f\"Keras version: {keras.__version__}\")"
      ]
    },
    {
      "cell_type": "code",
      "source": [
        "!python --version"
      ],
      "metadata": {
        "colab": {
          "base_uri": "https://localhost:8080/"
        },
        "id": "sKxUltwhnCPs",
        "outputId": "0a746b68-a5d6-45b9-b93b-5c168b50b6fd"
      },
      "execution_count": 2,
      "outputs": [
        {
          "output_type": "stream",
          "name": "stdout",
          "text": [
            "Python 3.10.12\n"
          ]
        }
      ]
    },
    {
      "cell_type": "code",
      "source": [
        "# Завантаження датасету Fashion MNIST\n",
        "(train_images, train_labels), (test_images, test_labels) = tf.keras.datasets.fashion_mnist.load_data()\n",
        "\n",
        "\n",
        "# Перевірка форми даних\n",
        "print(\"Train images shape:\", train_images.shape)\n",
        "print(\"Train labels shape:\", train_labels.shape)\n",
        "print(\"Test images shape:\", test_images.shape)\n",
        "print(\"Test labels shape:\", test_labels.shape)"
      ],
      "metadata": {
        "colab": {
          "base_uri": "https://localhost:8080/"
        },
        "id": "izcANlianD-0",
        "outputId": "b2968dff-a631-4a27-aeaa-6040edfed5ad"
      },
      "execution_count": 3,
      "outputs": [
        {
          "output_type": "stream",
          "name": "stdout",
          "text": [
            "Downloading data from https://storage.googleapis.com/tensorflow/tf-keras-datasets/train-labels-idx1-ubyte.gz\n",
            "29515/29515 [==============================] - 0s 0us/step\n",
            "Downloading data from https://storage.googleapis.com/tensorflow/tf-keras-datasets/train-images-idx3-ubyte.gz\n",
            "26421880/26421880 [==============================] - 0s 0us/step\n",
            "Downloading data from https://storage.googleapis.com/tensorflow/tf-keras-datasets/t10k-labels-idx1-ubyte.gz\n",
            "5148/5148 [==============================] - 0s 0us/step\n",
            "Downloading data from https://storage.googleapis.com/tensorflow/tf-keras-datasets/t10k-images-idx3-ubyte.gz\n",
            "4422102/4422102 [==============================] - 0s 0us/step\n",
            "Train images shape: (60000, 28, 28)\n",
            "Train labels shape: (60000,)\n",
            "Test images shape: (10000, 28, 28)\n",
            "Test labels shape: (10000,)\n"
          ]
        }
      ]
    },
    {
      "cell_type": "code",
      "source": [
        "# Зміна розмірності зображень на 32x32\n",
        "train_images = tf.image.resize(train_images[..., tf.newaxis], [32, 32])\n",
        "test_images = tf.image.resize(test_images[..., tf.newaxis], [32, 32])\n",
        ""
      ],
      "metadata": {
        "id": "REhf9g4inH40"
      },
      "execution_count": 4,
      "outputs": []
    },
    {
      "cell_type": "code",
      "source": [],
      "metadata": {
        "id": "gx_uYqLuz1_7"
      },
      "execution_count": null,
      "outputs": []
    },
    {
      "cell_type": "code",
      "source": [
        "# Збільшення кількості каналів у зображеннях з 1 до 3\n",
        "train_images = tf.repeat(train_images, 3, axis=-1)\n",
        "test_images = tf.repeat(test_images, 3, axis=-1)\n",
        "print(train_images.shape)\n",
        "print(test_images.shape)"
      ],
      "metadata": {
        "colab": {
          "base_uri": "https://localhost:8080/"
        },
        "id": "qYcGVIGOnKI8",
        "outputId": "49c2facb-0a25-427a-b8fe-32bce94e8a9c"
      },
      "execution_count": 5,
      "outputs": [
        {
          "output_type": "stream",
          "name": "stdout",
          "text": [
            "(60000, 32, 32, 3)\n",
            "(10000, 32, 32, 3)\n"
          ]
        }
      ]
    },
    {
      "cell_type": "code",
      "source": [
        "\n",
        "# Нормалізація піксельних значень до діапазону [0, 1]\n",
        "train_images = train_images / 255.0\n",
        "test_images = test_images / 255.0"
      ],
      "metadata": {
        "id": "bty8lhiinMSV"
      },
      "execution_count": 6,
      "outputs": []
    },
    {
      "cell_type": "code",
      "source": [
        "# Створення об'єкта генератора даних з параметрами аугментації для навчальних даних\n",
        "train_datagen = ImageDataGenerator(\n",
        "    rotation_range=10,\n",
        "    width_shift_range=0.1,\n",
        "    height_shift_range=0.1,\n",
        "    shear_range=0.2,\n",
        "    zoom_range=0.2,\n",
        "    horizontal_flip=True,\n",
        "    fill_mode='nearest'\n",
        ")\n",
        "\n",
        "# Генератор даних для навчального набору\n",
        "train_generator = train_datagen.flow(train_images, train_labels, batch_size=64)\n",
        "\n",
        "# Генератор даних для валідаційного набору без аугментації\n",
        "validation_datagen = ImageDataGenerator()\n",
        "\n",
        "# Генератор даних для валідаційного набору\n",
        "validation_generator = validation_datagen.flow(test_images, test_labels, batch_size=64)"
      ],
      "metadata": {
        "id": "fgU8cI2ZnOaV"
      },
      "execution_count": 7,
      "outputs": []
    },
    {
      "cell_type": "code",
      "source": [
        "# Завантаження VGG16\n",
        "conv_base = VGG16(weights=\"imagenet\", include_top=False, input_shape=(32, 32, 3))\n",
        "conv_base.trainable = False"
      ],
      "metadata": {
        "colab": {
          "base_uri": "https://localhost:8080/"
        },
        "id": "EyhCK5iHnRol",
        "outputId": "e64b4b1a-459e-4847-8a94-192f646e751c"
      },
      "execution_count": 8,
      "outputs": [
        {
          "output_type": "stream",
          "name": "stdout",
          "text": [
            "Downloading data from https://storage.googleapis.com/tensorflow/keras-applications/vgg16/vgg16_weights_tf_dim_ordering_tf_kernels_notop.h5\n",
            "58889256/58889256 [==============================] - 1s 0us/step\n"
          ]
        }
      ]
    },
    {
      "cell_type": "code",
      "source": [
        "\n",
        "conv_base.summary()"
      ],
      "metadata": {
        "colab": {
          "base_uri": "https://localhost:8080/"
        },
        "id": "qPtj8MWknTaF",
        "outputId": "db33f55d-605e-4568-ce1d-f077be65a0f1"
      },
      "execution_count": 9,
      "outputs": [
        {
          "output_type": "stream",
          "name": "stdout",
          "text": [
            "Model: \"vgg16\"\n",
            "_________________________________________________________________\n",
            " Layer (type)                Output Shape              Param #   \n",
            "=================================================================\n",
            " input_1 (InputLayer)        [(None, 32, 32, 3)]       0         \n",
            "                                                                 \n",
            " block1_conv1 (Conv2D)       (None, 32, 32, 64)        1792      \n",
            "                                                                 \n",
            " block1_conv2 (Conv2D)       (None, 32, 32, 64)        36928     \n",
            "                                                                 \n",
            " block1_pool (MaxPooling2D)  (None, 16, 16, 64)        0         \n",
            "                                                                 \n",
            " block2_conv1 (Conv2D)       (None, 16, 16, 128)       73856     \n",
            "                                                                 \n",
            " block2_conv2 (Conv2D)       (None, 16, 16, 128)       147584    \n",
            "                                                                 \n",
            " block2_pool (MaxPooling2D)  (None, 8, 8, 128)         0         \n",
            "                                                                 \n",
            " block3_conv1 (Conv2D)       (None, 8, 8, 256)         295168    \n",
            "                                                                 \n",
            " block3_conv2 (Conv2D)       (None, 8, 8, 256)         590080    \n",
            "                                                                 \n",
            " block3_conv3 (Conv2D)       (None, 8, 8, 256)         590080    \n",
            "                                                                 \n",
            " block3_pool (MaxPooling2D)  (None, 4, 4, 256)         0         \n",
            "                                                                 \n",
            " block4_conv1 (Conv2D)       (None, 4, 4, 512)         1180160   \n",
            "                                                                 \n",
            " block4_conv2 (Conv2D)       (None, 4, 4, 512)         2359808   \n",
            "                                                                 \n",
            " block4_conv3 (Conv2D)       (None, 4, 4, 512)         2359808   \n",
            "                                                                 \n",
            " block4_pool (MaxPooling2D)  (None, 2, 2, 512)         0         \n",
            "                                                                 \n",
            " block5_conv1 (Conv2D)       (None, 2, 2, 512)         2359808   \n",
            "                                                                 \n",
            " block5_conv2 (Conv2D)       (None, 2, 2, 512)         2359808   \n",
            "                                                                 \n",
            " block5_conv3 (Conv2D)       (None, 2, 2, 512)         2359808   \n",
            "                                                                 \n",
            " block5_pool (MaxPooling2D)  (None, 1, 1, 512)         0         \n",
            "                                                                 \n",
            "=================================================================\n",
            "Total params: 14714688 (56.13 MB)\n",
            "Trainable params: 0 (0.00 Byte)\n",
            "Non-trainable params: 14714688 (56.13 MB)\n",
            "_________________________________________________________________\n"
          ]
        }
      ]
    },
    {
      "cell_type": "code",
      "source": [
        "\n",
        "# Визначення моделі\n",
        "model_vgg = models.Sequential([\n",
        "    conv_base,\n",
        "    layers.Flatten(),\n",
        "    layers.Dense(256, activation=\"relu\"),\n",
        "    layers.Dense(10, activation=\"softmax\"),\n",
        "])"
      ],
      "metadata": {
        "id": "vvlO375QnU9m"
      },
      "execution_count": 10,
      "outputs": []
    },
    {
      "cell_type": "code",
      "source": [
        "model_vgg.summary()"
      ],
      "metadata": {
        "colab": {
          "base_uri": "https://localhost:8080/"
        },
        "id": "pxlUonhlnXY-",
        "outputId": "f2b7a7dc-1d1b-4a78-ed1a-e6381a026894"
      },
      "execution_count": 11,
      "outputs": [
        {
          "output_type": "stream",
          "name": "stdout",
          "text": [
            "Model: \"sequential\"\n",
            "_________________________________________________________________\n",
            " Layer (type)                Output Shape              Param #   \n",
            "=================================================================\n",
            " vgg16 (Functional)          (None, 1, 1, 512)         14714688  \n",
            "                                                                 \n",
            " flatten (Flatten)           (None, 512)               0         \n",
            "                                                                 \n",
            " dense (Dense)               (None, 256)               131328    \n",
            "                                                                 \n",
            " dense_1 (Dense)             (None, 10)                2570      \n",
            "                                                                 \n",
            "=================================================================\n",
            "Total params: 14848586 (56.64 MB)\n",
            "Trainable params: 133898 (523.04 KB)\n",
            "Non-trainable params: 14714688 (56.13 MB)\n",
            "_________________________________________________________________\n"
          ]
        }
      ]
    },
    {
      "cell_type": "code",
      "source": [
        "# Компіляція моделі\n",
        "model_vgg.compile(\n",
        "    loss=\"sparse_categorical_crossentropy\", # Зміна на sparse_categorical_crossentropy для багатокласової класифікації\n",
        "    #optimizer=tf.keras.optimizers.RMSprop(learning_rate=2e-5),\n",
        "    optimizer='Adam',\n",
        "    metrics=[\"accuracy\"]\n",
        ")\n",
        ""
      ],
      "metadata": {
        "id": "pHxqn9VenZCm"
      },
      "execution_count": 12,
      "outputs": []
    },
    {
      "cell_type": "code",
      "source": [
        "\n",
        "# Тренування моделі\n",
        "history = model_vgg.fit(\n",
        "    train_generator,\n",
        "    steps_per_epoch=15,\n",
        "    epochs=100, # Зменшення кількості епох для швидшого тестування\n",
        "    validation_data=validation_generator,\n",
        "    validation_steps=50\n",
        ")"
      ],
      "metadata": {
        "colab": {
          "base_uri": "https://localhost:8080/"
        },
        "id": "DostrYIlnl3H",
        "outputId": "3366f36d-e8ba-4ed3-ba73-c7d60e0014f3"
      },
      "execution_count": 13,
      "outputs": [
        {
          "output_type": "stream",
          "name": "stdout",
          "text": [
            "Epoch 1/100\n",
            "15/15 [==============================] - 11s 237ms/step - loss: 1.8640 - accuracy: 0.4146 - val_loss: 1.3968 - val_accuracy: 0.6294\n",
            "Epoch 2/100\n",
            "15/15 [==============================] - 3s 174ms/step - loss: 1.2622 - accuracy: 0.5854 - val_loss: 1.0388 - val_accuracy: 0.6841\n",
            "Epoch 3/100\n",
            "15/15 [==============================] - 3s 192ms/step - loss: 1.0299 - accuracy: 0.6750 - val_loss: 0.9638 - val_accuracy: 0.6562\n",
            "Epoch 4/100\n",
            "15/15 [==============================] - 2s 121ms/step - loss: 0.9429 - accuracy: 0.6698 - val_loss: 0.8976 - val_accuracy: 0.6834\n",
            "Epoch 5/100\n",
            "15/15 [==============================] - 2s 113ms/step - loss: 0.8345 - accuracy: 0.7188 - val_loss: 0.8066 - val_accuracy: 0.7113\n",
            "Epoch 6/100\n",
            "15/15 [==============================] - 2s 168ms/step - loss: 0.7873 - accuracy: 0.7219 - val_loss: 0.7771 - val_accuracy: 0.7200\n",
            "Epoch 7/100\n",
            "15/15 [==============================] - 2s 137ms/step - loss: 0.7504 - accuracy: 0.7448 - val_loss: 0.7910 - val_accuracy: 0.7134\n",
            "Epoch 8/100\n",
            "15/15 [==============================] - 2s 165ms/step - loss: 0.7697 - accuracy: 0.6983 - val_loss: 0.7079 - val_accuracy: 0.7513\n",
            "Epoch 9/100\n",
            "15/15 [==============================] - 2s 114ms/step - loss: 0.7365 - accuracy: 0.7427 - val_loss: 0.7428 - val_accuracy: 0.7350\n",
            "Epoch 10/100\n",
            "15/15 [==============================] - 1s 101ms/step - loss: 0.7803 - accuracy: 0.6958 - val_loss: 0.7704 - val_accuracy: 0.7159\n",
            "Epoch 11/100\n",
            "15/15 [==============================] - 1s 93ms/step - loss: 0.7570 - accuracy: 0.7302 - val_loss: 0.7379 - val_accuracy: 0.7287\n",
            "Epoch 12/100\n",
            "15/15 [==============================] - 1s 87ms/step - loss: 0.7531 - accuracy: 0.7104 - val_loss: 0.7181 - val_accuracy: 0.7472\n",
            "Epoch 13/100\n",
            "15/15 [==============================] - 1s 96ms/step - loss: 0.7497 - accuracy: 0.7188 - val_loss: 0.6898 - val_accuracy: 0.7528\n",
            "Epoch 14/100\n",
            "15/15 [==============================] - 2s 163ms/step - loss: 0.6857 - accuracy: 0.7500 - val_loss: 0.6789 - val_accuracy: 0.7531\n",
            "Epoch 15/100\n",
            "15/15 [==============================] - 1s 87ms/step - loss: 0.6768 - accuracy: 0.7750 - val_loss: 0.6542 - val_accuracy: 0.7638\n",
            "Epoch 16/100\n",
            "15/15 [==============================] - 1s 84ms/step - loss: 0.6571 - accuracy: 0.7625 - val_loss: 0.6439 - val_accuracy: 0.7709\n",
            "Epoch 17/100\n",
            "15/15 [==============================] - 1s 75ms/step - loss: 0.7105 - accuracy: 0.7604 - val_loss: 0.6906 - val_accuracy: 0.7553\n",
            "Epoch 18/100\n",
            "15/15 [==============================] - 1s 74ms/step - loss: 0.6526 - accuracy: 0.7490 - val_loss: 0.6800 - val_accuracy: 0.7466\n",
            "Epoch 19/100\n",
            "15/15 [==============================] - 1s 82ms/step - loss: 0.6511 - accuracy: 0.7583 - val_loss: 0.6174 - val_accuracy: 0.7753\n",
            "Epoch 20/100\n",
            "15/15 [==============================] - 1s 76ms/step - loss: 0.6210 - accuracy: 0.7823 - val_loss: 0.6672 - val_accuracy: 0.7519\n",
            "Epoch 21/100\n",
            "15/15 [==============================] - 1s 83ms/step - loss: 0.6966 - accuracy: 0.7448 - val_loss: 0.6574 - val_accuracy: 0.7728\n",
            "Epoch 22/100\n",
            "15/15 [==============================] - 2s 103ms/step - loss: 0.6536 - accuracy: 0.7698 - val_loss: 0.6748 - val_accuracy: 0.7559\n",
            "Epoch 23/100\n",
            "15/15 [==============================] - 1s 77ms/step - loss: 0.6575 - accuracy: 0.7594 - val_loss: 0.6119 - val_accuracy: 0.7812\n",
            "Epoch 24/100\n",
            "15/15 [==============================] - 1s 85ms/step - loss: 0.6182 - accuracy: 0.7635 - val_loss: 0.5928 - val_accuracy: 0.7841\n",
            "Epoch 25/100\n",
            "15/15 [==============================] - 1s 76ms/step - loss: 0.5821 - accuracy: 0.8052 - val_loss: 0.6256 - val_accuracy: 0.7675\n",
            "Epoch 26/100\n",
            "15/15 [==============================] - 1s 75ms/step - loss: 0.6195 - accuracy: 0.7812 - val_loss: 0.6100 - val_accuracy: 0.7853\n",
            "Epoch 27/100\n",
            "15/15 [==============================] - 1s 74ms/step - loss: 0.6706 - accuracy: 0.7656 - val_loss: 0.6050 - val_accuracy: 0.7884\n",
            "Epoch 28/100\n",
            "15/15 [==============================] - 1s 73ms/step - loss: 0.6769 - accuracy: 0.7542 - val_loss: 0.5843 - val_accuracy: 0.7909\n",
            "Epoch 29/100\n",
            "15/15 [==============================] - 1s 74ms/step - loss: 0.6267 - accuracy: 0.7781 - val_loss: 0.6332 - val_accuracy: 0.7728\n",
            "Epoch 30/100\n",
            "15/15 [==============================] - 1s 82ms/step - loss: 0.6720 - accuracy: 0.7583 - val_loss: 0.5992 - val_accuracy: 0.7906\n",
            "Epoch 31/100\n",
            "15/15 [==============================] - 2s 104ms/step - loss: 0.5954 - accuracy: 0.7854 - val_loss: 0.6337 - val_accuracy: 0.7719\n",
            "Epoch 32/100\n",
            "15/15 [==============================] - 1s 84ms/step - loss: 0.6286 - accuracy: 0.7625 - val_loss: 0.6352 - val_accuracy: 0.7766\n",
            "Epoch 33/100\n",
            "15/15 [==============================] - 1s 83ms/step - loss: 0.6252 - accuracy: 0.7719 - val_loss: 0.6163 - val_accuracy: 0.7747\n",
            "Epoch 34/100\n",
            "15/15 [==============================] - 1s 83ms/step - loss: 0.6116 - accuracy: 0.7688 - val_loss: 0.6171 - val_accuracy: 0.7656\n",
            "Epoch 35/100\n",
            "15/15 [==============================] - 1s 76ms/step - loss: 0.6428 - accuracy: 0.7635 - val_loss: 0.6351 - val_accuracy: 0.7778\n",
            "Epoch 36/100\n",
            "15/15 [==============================] - 1s 75ms/step - loss: 0.6511 - accuracy: 0.7615 - val_loss: 0.5752 - val_accuracy: 0.7944\n",
            "Epoch 37/100\n",
            "15/15 [==============================] - 1s 76ms/step - loss: 0.6212 - accuracy: 0.7823 - val_loss: 0.6136 - val_accuracy: 0.7891\n",
            "Epoch 38/100\n",
            "15/15 [==============================] - 1s 84ms/step - loss: 0.5638 - accuracy: 0.7865 - val_loss: 0.6093 - val_accuracy: 0.7819\n",
            "Epoch 39/100\n",
            "15/15 [==============================] - 1s 76ms/step - loss: 0.6143 - accuracy: 0.7802 - val_loss: 0.5474 - val_accuracy: 0.8075\n",
            "Epoch 40/100\n",
            "15/15 [==============================] - 2s 104ms/step - loss: 0.6414 - accuracy: 0.7635 - val_loss: 0.5942 - val_accuracy: 0.7931\n",
            "Epoch 41/100\n",
            "15/15 [==============================] - 1s 83ms/step - loss: 0.5663 - accuracy: 0.7990 - val_loss: 0.5607 - val_accuracy: 0.7937\n",
            "Epoch 42/100\n",
            "15/15 [==============================] - 1s 77ms/step - loss: 0.6377 - accuracy: 0.7875 - val_loss: 0.5774 - val_accuracy: 0.7975\n",
            "Epoch 43/100\n",
            "15/15 [==============================] - 1s 75ms/step - loss: 0.5873 - accuracy: 0.7875 - val_loss: 0.5733 - val_accuracy: 0.7897\n",
            "Epoch 44/100\n",
            "15/15 [==============================] - 1s 86ms/step - loss: 0.5753 - accuracy: 0.8062 - val_loss: 0.6209 - val_accuracy: 0.7663\n",
            "Epoch 45/100\n",
            "15/15 [==============================] - 1s 83ms/step - loss: 0.5781 - accuracy: 0.7906 - val_loss: 0.5936 - val_accuracy: 0.7828\n",
            "Epoch 46/100\n",
            "15/15 [==============================] - 1s 75ms/step - loss: 0.5750 - accuracy: 0.7937 - val_loss: 0.5453 - val_accuracy: 0.7991\n",
            "Epoch 47/100\n",
            "15/15 [==============================] - 1s 84ms/step - loss: 0.5502 - accuracy: 0.7937 - val_loss: 0.5673 - val_accuracy: 0.7962\n",
            "Epoch 48/100\n",
            "15/15 [==============================] - 1s 77ms/step - loss: 0.5977 - accuracy: 0.7781 - val_loss: 0.6534 - val_accuracy: 0.7603\n",
            "Epoch 49/100\n",
            "15/15 [==============================] - 2s 105ms/step - loss: 0.6329 - accuracy: 0.7844 - val_loss: 0.6018 - val_accuracy: 0.7797\n",
            "Epoch 50/100\n",
            "15/15 [==============================] - 1s 92ms/step - loss: 0.5578 - accuracy: 0.8083 - val_loss: 0.6039 - val_accuracy: 0.7744\n",
            "Epoch 51/100\n",
            "15/15 [==============================] - 1s 77ms/step - loss: 0.6050 - accuracy: 0.7698 - val_loss: 0.5762 - val_accuracy: 0.7844\n",
            "Epoch 52/100\n",
            "15/15 [==============================] - 1s 85ms/step - loss: 0.5871 - accuracy: 0.7844 - val_loss: 0.5984 - val_accuracy: 0.7819\n",
            "Epoch 53/100\n",
            "15/15 [==============================] - 1s 77ms/step - loss: 0.5508 - accuracy: 0.7896 - val_loss: 0.5606 - val_accuracy: 0.7912\n",
            "Epoch 54/100\n",
            "15/15 [==============================] - 1s 85ms/step - loss: 0.5291 - accuracy: 0.7969 - val_loss: 0.5651 - val_accuracy: 0.7975\n",
            "Epoch 55/100\n",
            "15/15 [==============================] - 1s 78ms/step - loss: 0.5859 - accuracy: 0.7885 - val_loss: 0.5597 - val_accuracy: 0.7997\n",
            "Epoch 56/100\n",
            "15/15 [==============================] - 1s 84ms/step - loss: 0.5493 - accuracy: 0.7875 - val_loss: 0.5695 - val_accuracy: 0.7928\n",
            "Epoch 57/100\n",
            "15/15 [==============================] - 1s 83ms/step - loss: 0.5869 - accuracy: 0.7833 - val_loss: 0.5621 - val_accuracy: 0.7925\n",
            "Epoch 58/100\n",
            "15/15 [==============================] - 1s 96ms/step - loss: 0.5654 - accuracy: 0.7896 - val_loss: 0.6094 - val_accuracy: 0.7731\n",
            "Epoch 59/100\n",
            "15/15 [==============================] - 2s 106ms/step - loss: 0.5615 - accuracy: 0.8083 - val_loss: 0.5606 - val_accuracy: 0.8003\n",
            "Epoch 60/100\n",
            "15/15 [==============================] - 1s 78ms/step - loss: 0.5595 - accuracy: 0.7969 - val_loss: 0.5120 - val_accuracy: 0.8097\n",
            "Epoch 61/100\n",
            "15/15 [==============================] - 1s 85ms/step - loss: 0.5435 - accuracy: 0.8010 - val_loss: 0.5286 - val_accuracy: 0.8016\n",
            "Epoch 62/100\n",
            "15/15 [==============================] - 1s 86ms/step - loss: 0.5435 - accuracy: 0.7948 - val_loss: 0.5437 - val_accuracy: 0.8019\n",
            "Epoch 63/100\n",
            "15/15 [==============================] - 1s 83ms/step - loss: 0.5495 - accuracy: 0.7927 - val_loss: 0.5448 - val_accuracy: 0.7981\n",
            "Epoch 64/100\n",
            "15/15 [==============================] - 1s 77ms/step - loss: 0.5586 - accuracy: 0.8062 - val_loss: 0.5655 - val_accuracy: 0.7912\n",
            "Epoch 65/100\n",
            "15/15 [==============================] - 1s 87ms/step - loss: 0.5923 - accuracy: 0.7823 - val_loss: 0.5852 - val_accuracy: 0.7803\n",
            "Epoch 66/100\n",
            "15/15 [==============================] - 2s 109ms/step - loss: 0.5243 - accuracy: 0.8010 - val_loss: 0.5683 - val_accuracy: 0.7837\n",
            "Epoch 67/100\n",
            "15/15 [==============================] - 2s 123ms/step - loss: 0.5548 - accuracy: 0.8000 - val_loss: 0.5725 - val_accuracy: 0.7881\n",
            "Epoch 68/100\n",
            "15/15 [==============================] - 1s 75ms/step - loss: 0.6259 - accuracy: 0.7781 - val_loss: 0.5686 - val_accuracy: 0.7847\n",
            "Epoch 69/100\n",
            "15/15 [==============================] - 1s 75ms/step - loss: 0.5752 - accuracy: 0.7854 - val_loss: 0.5274 - val_accuracy: 0.8047\n",
            "Epoch 70/100\n",
            "15/15 [==============================] - 1s 75ms/step - loss: 0.5487 - accuracy: 0.8000 - val_loss: 0.5317 - val_accuracy: 0.8103\n",
            "Epoch 71/100\n",
            "15/15 [==============================] - 1s 84ms/step - loss: 0.5899 - accuracy: 0.7781 - val_loss: 0.5519 - val_accuracy: 0.7909\n",
            "Epoch 72/100\n",
            "15/15 [==============================] - 1s 84ms/step - loss: 0.5843 - accuracy: 0.7917 - val_loss: 0.5847 - val_accuracy: 0.7937\n",
            "Epoch 73/100\n",
            "15/15 [==============================] - 1s 83ms/step - loss: 0.5256 - accuracy: 0.8062 - val_loss: 0.5814 - val_accuracy: 0.7794\n",
            "Epoch 74/100\n",
            "15/15 [==============================] - 2s 109ms/step - loss: 0.5617 - accuracy: 0.7896 - val_loss: 0.5436 - val_accuracy: 0.8034\n",
            "Epoch 75/100\n",
            "15/15 [==============================] - 1s 84ms/step - loss: 0.5708 - accuracy: 0.8000 - val_loss: 0.5484 - val_accuracy: 0.7925\n",
            "Epoch 76/100\n",
            "15/15 [==============================] - 1s 76ms/step - loss: 0.6065 - accuracy: 0.7781 - val_loss: 0.5546 - val_accuracy: 0.7950\n",
            "Epoch 77/100\n",
            "15/15 [==============================] - 1s 75ms/step - loss: 0.6158 - accuracy: 0.7792 - val_loss: 0.5868 - val_accuracy: 0.7769\n",
            "Epoch 78/100\n",
            "15/15 [==============================] - 1s 75ms/step - loss: 0.5712 - accuracy: 0.8010 - val_loss: 0.5460 - val_accuracy: 0.7981\n",
            "Epoch 79/100\n",
            "15/15 [==============================] - 1s 75ms/step - loss: 0.5599 - accuracy: 0.7990 - val_loss: 0.5331 - val_accuracy: 0.8075\n",
            "Epoch 80/100\n",
            "15/15 [==============================] - 1s 76ms/step - loss: 0.5634 - accuracy: 0.7958 - val_loss: 0.5408 - val_accuracy: 0.7969\n",
            "Epoch 81/100\n",
            "15/15 [==============================] - 1s 82ms/step - loss: 0.5347 - accuracy: 0.8062 - val_loss: 0.5507 - val_accuracy: 0.8053\n",
            "Epoch 82/100\n",
            "15/15 [==============================] - 1s 84ms/step - loss: 0.5885 - accuracy: 0.7688 - val_loss: 0.5330 - val_accuracy: 0.8081\n",
            "Epoch 83/100\n",
            "15/15 [==============================] - 2s 107ms/step - loss: 0.5571 - accuracy: 0.7885 - val_loss: 0.5713 - val_accuracy: 0.7994\n",
            "Epoch 84/100\n",
            "15/15 [==============================] - 2s 104ms/step - loss: 0.5140 - accuracy: 0.8135 - val_loss: 0.5438 - val_accuracy: 0.8078\n",
            "Epoch 85/100\n",
            "15/15 [==============================] - 1s 83ms/step - loss: 0.5838 - accuracy: 0.7812 - val_loss: 0.5559 - val_accuracy: 0.7934\n",
            "Epoch 86/100\n",
            "15/15 [==============================] - 1s 84ms/step - loss: 0.5714 - accuracy: 0.8010 - val_loss: 0.5518 - val_accuracy: 0.8012\n",
            "Epoch 87/100\n",
            "15/15 [==============================] - 1s 82ms/step - loss: 0.5963 - accuracy: 0.7646 - val_loss: 0.5063 - val_accuracy: 0.8150\n",
            "Epoch 88/100\n",
            "15/15 [==============================] - 1s 84ms/step - loss: 0.5448 - accuracy: 0.7875 - val_loss: 0.5151 - val_accuracy: 0.8094\n",
            "Epoch 89/100\n",
            "15/15 [==============================] - 1s 74ms/step - loss: 0.5475 - accuracy: 0.8083 - val_loss: 0.5360 - val_accuracy: 0.8012\n",
            "Epoch 90/100\n",
            "15/15 [==============================] - 1s 86ms/step - loss: 0.5707 - accuracy: 0.7740 - val_loss: 0.5694 - val_accuracy: 0.7884\n",
            "Epoch 91/100\n",
            "15/15 [==============================] - 2s 109ms/step - loss: 0.5250 - accuracy: 0.8146 - val_loss: 0.5483 - val_accuracy: 0.8075\n",
            "Epoch 92/100\n",
            "15/15 [==============================] - 1s 76ms/step - loss: 0.5485 - accuracy: 0.8052 - val_loss: 0.5393 - val_accuracy: 0.8028\n",
            "Epoch 93/100\n",
            "15/15 [==============================] - 1s 83ms/step - loss: 0.5243 - accuracy: 0.8021 - val_loss: 0.5290 - val_accuracy: 0.8122\n",
            "Epoch 94/100\n",
            "15/15 [==============================] - 1s 75ms/step - loss: 0.5657 - accuracy: 0.7937 - val_loss: 0.5539 - val_accuracy: 0.8072\n",
            "Epoch 95/100\n",
            "15/15 [==============================] - 1s 76ms/step - loss: 0.5233 - accuracy: 0.8094 - val_loss: 0.5393 - val_accuracy: 0.8006\n",
            "Epoch 96/100\n",
            "15/15 [==============================] - 1s 83ms/step - loss: 0.5549 - accuracy: 0.7937 - val_loss: 0.5357 - val_accuracy: 0.8066\n",
            "Epoch 97/100\n",
            "15/15 [==============================] - 1s 84ms/step - loss: 0.5177 - accuracy: 0.8156 - val_loss: 0.5556 - val_accuracy: 0.7887\n",
            "Epoch 98/100\n",
            "15/15 [==============================] - 1s 75ms/step - loss: 0.5862 - accuracy: 0.7771 - val_loss: 0.5304 - val_accuracy: 0.8081\n",
            "Epoch 99/100\n",
            "15/15 [==============================] - 1s 85ms/step - loss: 0.5494 - accuracy: 0.7969 - val_loss: 0.4990 - val_accuracy: 0.8159\n",
            "Epoch 100/100\n",
            "15/15 [==============================] - 2s 102ms/step - loss: 0.5252 - accuracy: 0.8146 - val_loss: 0.5320 - val_accuracy: 0.8019\n"
          ]
        }
      ]
    },
    {
      "cell_type": "code",
      "source": [
        "\n",
        "import matplotlib.pyplot as plt\n",
        "\n",
        "acc = history.history[\"accuracy\"]\n",
        "val_acc = history.history[\"val_accuracy\"]\n",
        "\n",
        "loss = history.history[\"loss\"]\n",
        "val_loss = history.history[\"val_loss\"]\n",
        "\n",
        "epochs = range(1, len(acc) + 1)\n",
        "\n",
        "plt.figure(figsize=(20, 7), dpi=80)\n",
        "plt.grid(True)\n",
        "\n",
        "plt.plot(epochs, acc, \"bo\", label=\"Training acc\")\n",
        "plt.plot(epochs, val_acc, \"b\", label=\"Validation accuracy\")\n",
        "\n",
        "plt.title(\"Training and validation accuracy\")\n",
        "plt.legend()\n",
        "\n",
        "plt.figure(figsize=(20, 7), dpi=80)\n",
        "plt.grid(True)\n",
        "\n",
        "plt.plot(epochs, loss, \"bo\", label=\"Training loss\")\n",
        "plt.plot(epochs, val_loss, \"b\", label=\"Validation loss\")\n",
        "plt.title(\"Training and validation loss\")\n",
        "\n",
        "plt.legend()\n",
        "plt.show()"
      ],
      "metadata": {
        "colab": {
          "base_uri": "https://localhost:8080/",
          "height": 963
        },
        "id": "bZhyOXKFnmS_",
        "outputId": "60d1e080-aa4c-4562-e439-3153a7625d44"
      },
      "execution_count": 14,
      "outputs": [
        {
          "output_type": "display_data",
          "data": {
            "text/plain": [
              "<Figure size 1600x560 with 1 Axes>"
            ],
            "image/png": "[encoded data removed]"
          },
          "metadata": {}
        },
        {
          "output_type": "display_data",
          "data": {
            "text/plain": [
              "<Figure size 1600x560 with 1 Axes>"
            ],
            "image/png": "[encoded data removed]"
          },
          "metadata": {}
        }
      ]
    },
    {
      "cell_type": "code",
      "source": [
        "\n",
        "from sklearn.metrics import classification_report\n",
        "import numpy as np\n",
        "\n",
        "# Отримання передбачень для тестових даних\n",
        "predictions = model_vgg.predict(test_images)\n",
        "predicted_classes = np.argmax(predictions, axis=1)\n",
        "\n",
        "# Генерація classification report\n",
        "report = classification_report(test_labels, predicted_classes)\n",
        "print(report)\n",
        "\n",
        "# Перевірка точності на тестових даних за допомогою генератора\n",
        "test_loss, test_acc = model_vgg.evaluate(validation_generator, steps=len(test_images) // 64, verbose=2)\n",
        "print(f'Test accuracy: {test_acc}')"
      ],
      "metadata": {
        "colab": {
          "base_uri": "https://localhost:8080/"
        },
        "id": "iluJqAD0nsjg",
        "outputId": "79cbc801-317b-421b-912b-963ecf978e3f"
      },
      "execution_count": 15,
      "outputs": [
        {
          "output_type": "stream",
          "name": "stdout",
          "text": [
            "313/313 [==============================] - 3s 9ms/step\n",
            "              precision    recall  f1-score   support\n",
            "\n",
            "           0       0.71      0.78      0.74      1000\n",
            "           1       0.98      0.95      0.96      1000\n",
            "           2       0.69      0.69      0.69      1000\n",
            "           3       0.88      0.67      0.76      1000\n",
            "           4       0.62      0.74      0.67      1000\n",
            "           5       0.97      0.90      0.93      1000\n",
            "           6       0.52      0.54      0.53      1000\n",
            "           7       0.90      0.93      0.92      1000\n",
            "           8       0.97      0.90      0.93      1000\n",
            "           9       0.91      0.96      0.94      1000\n",
            "\n",
            "    accuracy                           0.81     10000\n",
            "   macro avg       0.82      0.81      0.81     10000\n",
            "weighted avg       0.82      0.81      0.81     10000\n",
            "\n",
            "156/156 - 2s - loss: 0.5275 - accuracy: 0.8059 - 2s/epoch - 10ms/step\n",
            "Test accuracy: 0.8058894276618958\n"
          ]
        }
      ]
    },
    {
      "cell_type": "code",
      "source": [
        "class_names = ['T-shirt/top', 'Trouser', 'Pullover', 'Dress', 'Coat',\n",
        "               'Sandal', 'Shirt', 'Sneaker', 'Bag', 'Ankle boot']\n",
        "\n",
        "# Виведення номерів і назв класів\n",
        "for idx, class_name in enumerate(class_names):\n",
        "    print(f'Номер: {idx}, Назва: {class_name}')"
      ],
      "metadata": {
        "colab": {
          "base_uri": "https://localhost:8080/"
        },
        "id": "5x_-czWHnuw5",
        "outputId": "c4d677e6-ab06-46e8-a9c2-58b4ca0fc24c"
      },
      "execution_count": 16,
      "outputs": [
        {
          "output_type": "stream",
          "name": "stdout",
          "text": [
            "Номер: 0, Назва: T-shirt/top\n",
            "Номер: 1, Назва: Trouser\n",
            "Номер: 2, Назва: Pullover\n",
            "Номер: 3, Назва: Dress\n",
            "Номер: 4, Назва: Coat\n",
            "Номер: 5, Назва: Sandal\n",
            "Номер: 6, Назва: Shirt\n",
            "Номер: 7, Назва: Sneaker\n",
            "Номер: 8, Назва: Bag\n",
            "Номер: 9, Назва: Ankle boot\n"
          ]
        }
      ]
    },
    {
      "cell_type": "code",
      "source": [
        "num_images = 5\n",
        "indices = np.random.choice(len(test_images), num_images, replace=False)\n",
        "\n",
        "for idx in indices:\n",
        "    image = test_images[idx]\n",
        "    true_label = test_labels[idx]\n",
        "\n",
        "    # Make predictions\n",
        "    y_pred_prob = model_vgg.predict(np.expand_dims(image, axis=0))\n",
        "    predicted_label = np.argmax(y_pred_prob)\n",
        "\n",
        "    plt.figure(figsize=(3, 3))\n",
        "    plt.imshow(image, cmap='gray')\n",
        "    plt.axis('off')\n",
        "    plt.title(f'True: {true_label}, Predicted: {predicted_label}')\n",
        "    plt.show()\n",
        "\n",
        "    print('Class probabilities:')\n",
        "    for class_idx, prob in enumerate(y_pred_prob[0]):\n",
        "        print(f'Class {class_idx}: {prob:.4f}')"
      ],
      "metadata": {
        "colab": {
          "base_uri": "https://localhost:8080/",
          "height": 1000
        },
        "id": "Yoe0oOpDnxYJ",
        "outputId": "bff49259-f0cb-4454-aa29-07c511e38a69"
      },
      "execution_count": 17,
      "outputs": [
        {
          "output_type": "stream",
          "name": "stdout",
          "text": [
            "1/1 [==============================] - 1s 564ms/step\n"
          ]
        },
        {
          "output_type": "display_data",
          "data": {
            "text/plain": [
              "<Figure size 300x300 with 1 Axes>"
            ],
            "image/png": "[encoded data removed]"
          },
          "metadata": {}
        },
        {
          "output_type": "stream",
          "name": "stdout",
          "text": [
            "Class probabilities:\n",
            "Class 0: 0.0415\n",
            "Class 1: 0.6760\n",
            "Class 2: 0.0141\n",
            "Class 3: 0.2255\n",
            "Class 4: 0.0204\n",
            "Class 5: 0.0000\n",
            "Class 6: 0.0222\n",
            "Class 7: 0.0000\n",
            "Class 8: 0.0003\n",
            "Class 9: 0.0000\n",
            "1/1 [==============================] - 0s 27ms/step\n"
          ]
        },
        {
          "output_type": "display_data",
          "data": {
            "text/plain": [
              "<Figure size 300x300 with 1 Axes>"
            ],
            "image/png": "[encoded data removed]"
          },
          "metadata": {}
        },
        {
          "output_type": "stream",
          "name": "stdout",
          "text": [
            "Class probabilities:\n",
            "Class 0: 0.0000\n",
            "Class 1: 0.0000\n",
            "Class 2: 0.0000\n",
            "Class 3: 0.0000\n",
            "Class 4: 0.0000\n",
            "Class 5: 0.0003\n",
            "Class 6: 0.0001\n",
            "Class 7: 0.0001\n",
            "Class 8: 0.0027\n",
            "Class 9: 0.9966\n",
            "1/1 [==============================] - 0s 28ms/step\n"
          ]
        },
        {
          "output_type": "display_data",
          "data": {
            "text/plain": [
              "<Figure size 300x300 with 1 Axes>"
            ],
            "image/png": "[encoded data removed]"
          },
          "metadata": {}
        },
        {
          "output_type": "stream",
          "name": "stdout",
          "text": [
            "Class probabilities:\n",
            "Class 0: 0.0018\n",
            "Class 1: 0.0000\n",
            "Class 2: 0.0058\n",
            "Class 3: 0.0021\n",
            "Class 4: 0.0029\n",
            "Class 5: 0.0000\n",
            "Class 6: 0.0022\n",
            "Class 7: 0.0000\n",
            "Class 8: 0.9850\n",
            "Class 9: 0.0000\n",
            "1/1 [==============================] - 0s 29ms/step\n"
          ]
        },
        {
          "output_type": "display_data",
          "data": {
            "text/plain": [
              "<Figure size 300x300 with 1 Axes>"
            ],
            "image/png": "[encoded data removed]"
          },
          "metadata": {}
        },
        {
          "output_type": "stream",
          "name": "stdout",
          "text": [
            "Class probabilities:\n",
            "Class 0: 0.0000\n",
            "Class 1: 0.0000\n",
            "Class 2: 0.0000\n",
            "Class 3: 0.0000\n",
            "Class 4: 0.0000\n",
            "Class 5: 0.0003\n",
            "Class 6: 0.0001\n",
            "Class 7: 0.0020\n",
            "Class 8: 0.0028\n",
            "Class 9: 0.9948\n",
            "1/1 [==============================] - 0s 35ms/step\n"
          ]
        },
        {
          "output_type": "display_data",
          "data": {
            "text/plain": [
              "<Figure size 300x300 with 1 Axes>"
            ],
            "image/png": "[encoded data removed]"
          },
          "metadata": {}
        },
        {
          "output_type": "stream",
          "name": "stdout",
          "text": [
            "Class probabilities:\n",
            "Class 0: 0.6428\n",
            "Class 1: 0.0003\n",
            "Class 2: 0.1438\n",
            "Class 3: 0.0506\n",
            "Class 4: 0.0145\n",
            "Class 5: 0.0000\n",
            "Class 6: 0.1467\n",
            "Class 7: 0.0000\n",
            "Class 8: 0.0012\n",
            "Class 9: 0.0000\n"
          ]
        }
      ]
    },
    {
      "cell_type": "code",
      "source": [
        "model_vgg.save(\"fashion_mnist_model_VGG16.h5\")"
      ],
      "metadata": {
        "colab": {
          "base_uri": "https://localhost:8080/"
        },
        "id": "yg58M__7nz_p",
        "outputId": "ff030da1-c8c6-4243-a0a0-45cf55082631"
      },
      "execution_count": 18,
      "outputs": [
        {
          "output_type": "stream",
          "name": "stderr",
          "text": [
            "/usr/local/lib/python3.10/dist-packages/keras/src/engine/training.py:3103: UserWarning: You are saving your model as an HDF5 file via `model.save()`. This file format is considered legacy. We recommend using instead the native Keras format, e.g. `model.save('my_model.keras')`.\n",
            "  saving_api.save_model(\n"
          ]
        }
      ]
    },
    {
      "cell_type": "code",
      "source": [
        "import pickle\n",
        "# Збереження історії навчання\n",
        "with open('fashion_mnist_model_VGG16_history.pkl', 'wb') as f:\n",
        "    pickle.dump(history.history, f)"
      ],
      "metadata": {
        "id": "jAE3_HCQn3BZ"
      },
      "execution_count": 19,
      "outputs": []
    },
    {
      "cell_type": "code",
      "source": [
        "optimizer_state = model_vgg.optimizer.variables()\n",
        "with open('optimizer_state_model_vgg_VGG16.pkl', 'wb') as f:\n",
        "    pickle.dump([v.numpy() for v in optimizer_state], f)"
      ],
      "metadata": {
        "id": "RFb8ReQzoMwr"
      },
      "execution_count": 21,
      "outputs": []
    },
    {
      "cell_type": "code",
      "source": [
        "\n",
        "from tensorflow.keras.models import load_model\n",
        "\n",
        "model_vgg16_loaded = load_model(\"fashion_mnist_model_VGG16.h5\")\n",
        "model_vgg16_loaded.summary()"
      ],
      "metadata": {
        "colab": {
          "base_uri": "https://localhost:8080/"
        },
        "id": "xlduQkggn_WC",
        "outputId": "233dcf69-a5cc-44c8-feb3-edfbbbcb85da"
      },
      "execution_count": 22,
      "outputs": [
        {
          "output_type": "stream",
          "name": "stdout",
          "text": [
            "Model: \"sequential\"\n",
            "_________________________________________________________________\n",
            " Layer (type)                Output Shape              Param #   \n",
            "=================================================================\n",
            " vgg16 (Functional)          (None, 1, 1, 512)         14714688  \n",
            "                                                                 \n",
            " flatten (Flatten)           (None, 512)               0         \n",
            "                                                                 \n",
            " dense (Dense)               (None, 256)               131328    \n",
            "                                                                 \n",
            " dense_1 (Dense)             (None, 10)                2570      \n",
            "                                                                 \n",
            "=================================================================\n",
            "Total params: 14848586 (56.64 MB)\n",
            "Trainable params: 133898 (523.04 KB)\n",
            "Non-trainable params: 14714688 (56.13 MB)\n",
            "_________________________________________________________________\n"
          ]
        }
      ]
    },
    {
      "cell_type": "code",
      "source": [
        "from google.colab import drive\n",
        "drive.mount('/content/drive')\n",
        "\n"
      ],
      "metadata": {
        "colab": {
          "base_uri": "https://localhost:8080/"
        },
        "id": "OnlMCu2zr2jC",
        "outputId": "d434b682-fe20-4e1c-9e5f-c9ba18ceccd5"
      },
      "execution_count": 23,
      "outputs": [
        {
          "output_type": "stream",
          "name": "stdout",
          "text": [
            "Mounted at /content/drive\n"
          ]
        }
      ]
    },
    {
      "cell_type": "code",
      "source": [
        "!cp fashion_mnist_model_VGG16.h5 /content/drive/My\\ Drive/Files/hw16/"
      ],
      "metadata": {
        "id": "GJjAeNzlsNJr"
      },
      "execution_count": 24,
      "outputs": []
    },
    {
      "cell_type": "code",
      "source": [
        "# Візуалізація першого зображення з тренувального датасету\n",
        "plt.figure()\n",
        "plt.imshow(train_images[0]) #, cmap='viridis'\n",
        "plt.colorbar()\n",
        "plt.grid(False)\n",
        "plt.show()"
      ],
      "metadata": {
        "colab": {
          "base_uri": "https://localhost:8080/",
          "height": 430
        },
        "id": "8G8yOeXwy6qs",
        "outputId": "57d1101a-6273-4801-f420-b3889145e3f3"
      },
      "execution_count": 26,
      "outputs": [
        {
          "output_type": "display_data",
          "data": {
            "text/plain": [
              "<Figure size 640x480 with 2 Axes>"
            ],
            "image/png": "[encoded data removed]"
          },
          "metadata": {}
        }
      ]
    },
    {
      "cell_type": "code",
      "source": [
        "# Завантаження датасету Fashion MNIST\n",
        "(train_images2, train_labels2), (test_images2, test_labels2) = tf.keras.datasets.fashion_mnist.load_data()\n",
        "# Зміна розмірності зображень на 32x32\n",
        "train_images2 = tf.image.resize(train_images2[..., tf.newaxis], [32, 32])\n",
        "test_images2 = tf.image.resize(test_images2[..., tf.newaxis], [32, 32])\n"
      ],
      "metadata": {
        "id": "_wxEFgo9z3lT"
      },
      "execution_count": 27,
      "outputs": []
    },
    {
      "cell_type": "code",
      "source": [
        "# Збільшення кількості каналів у зображеннях з 1 до 3\n",
        "train_images2 = tf.repeat(train_images2, 3, axis=-1)\n",
        "test_images2 = tf.repeat(test_images2, 3, axis=-1)\n",
        "print(train_images2.shape)\n",
        "print(test_images2.shape)"
      ],
      "metadata": {
        "colab": {
          "base_uri": "https://localhost:8080/"
        },
        "id": "k7qfFSCY0DU7",
        "outputId": "5708f360-6ca3-4ecd-ae12-0d8378f69f5f"
      },
      "execution_count": 31,
      "outputs": [
        {
          "output_type": "stream",
          "name": "stdout",
          "text": [
            "(60000, 32, 32, 3)\n",
            "(10000, 32, 32, 3)\n"
          ]
        }
      ]
    },
    {
      "cell_type": "code",
      "source": [
        "# Нормалізація піксельних значень до діапазону [0, 1]\n",
        "train_images2 = train_images2 / 255.0\n",
        "test_images2 = test_images2 / 255.0"
      ],
      "metadata": {
        "id": "BUixrOnu0Pp3"
      },
      "execution_count": 33,
      "outputs": []
    },
    {
      "cell_type": "code",
      "source": [
        "# Візуалізація першого зображення з тренувального датасету\n",
        "plt.figure()\n",
        "plt.imshow(train_images2[0], cmap='viridis') #\n",
        "plt.colorbar()\n",
        "plt.grid(False)\n",
        "plt.show()"
      ],
      "metadata": {
        "colab": {
          "base_uri": "https://localhost:8080/",
          "height": 430
        },
        "id": "DenzzCJc0JOs",
        "outputId": "7dc18dce-2509-400b-e2cd-630a970224b6"
      },
      "execution_count": 36,
      "outputs": [
        {
          "output_type": "display_data",
          "data": {
            "text/plain": [
              "<Figure size 640x480 with 2 Axes>"
            ],
            "image/png": "[encoded data removed]"
          },
          "metadata": {}
        }
      ]
    },
    {
      "cell_type": "code",
      "source": [
        "num_images = 5\n",
        "indices = np.random.choice(len(test_images2), num_images, replace=False)\n",
        "\n",
        "for idx in indices:\n",
        "    image = test_images2[idx]\n",
        "    true_label = test_labels2[idx]\n",
        "\n",
        "    # Make predictions\n",
        "    y_pred_prob = model_vgg.predict(np.expand_dims(image, axis=0))\n",
        "    predicted_label = np.argmax(y_pred_prob)\n",
        "\n",
        "    plt.figure(figsize=(3, 3))\n",
        "    plt.imshow(image, cmap='gray')\n",
        "    plt.axis('off')\n",
        "    plt.title(f'True: {true_label}, Predicted: {predicted_label}')\n",
        "    plt.show()\n",
        "\n",
        "    print('Class probabilities:')\n",
        "    for class_idx, prob in enumerate(y_pred_prob[0]):\n",
        "        print(f'Class {class_idx}: {prob:.4f}')"
      ],
      "metadata": {
        "colab": {
          "base_uri": "https://localhost:8080/",
          "height": 1000
        },
        "id": "iI5Jt2fq0swx",
        "outputId": "f19c2b16-0c9d-49db-f83c-d5f2758909db"
      },
      "execution_count": 35,
      "outputs": [
        {
          "output_type": "stream",
          "name": "stdout",
          "text": [
            "1/1 [==============================] - 0s 29ms/step\n"
          ]
        },
        {
          "output_type": "display_data",
          "data": {
            "text/plain": [
              "<Figure size 300x300 with 1 Axes>"
            ],
            "image/png": "[encoded data removed]"
          },
          "metadata": {}
        },
        {
          "output_type": "stream",
          "name": "stdout",
          "text": [
            "Class probabilities:\n",
            "Class 0: 0.0011\n",
            "Class 1: 0.0006\n",
            "Class 2: 0.8783\n",
            "Class 3: 0.0001\n",
            "Class 4: 0.0334\n",
            "Class 5: 0.0000\n",
            "Class 6: 0.0864\n",
            "Class 7: 0.0000\n",
            "Class 8: 0.0000\n",
            "Class 9: 0.0000\n",
            "1/1 [==============================] - 0s 30ms/step\n"
          ]
        },
        {
          "output_type": "display_data",
          "data": {
            "text/plain": [
              "<Figure size 300x300 with 1 Axes>"
            ],
            "image/png": "[encoded data removed]"
          },
          "metadata": {}
        },
        {
          "output_type": "stream",
          "name": "stdout",
          "text": [
            "Class probabilities:\n",
            "Class 0: 0.0001\n",
            "Class 1: 0.9826\n",
            "Class 2: 0.0000\n",
            "Class 3: 0.0170\n",
            "Class 4: 0.0000\n",
            "Class 5: 0.0000\n",
            "Class 6: 0.0001\n",
            "Class 7: 0.0000\n",
            "Class 8: 0.0001\n",
            "Class 9: 0.0000\n",
            "1/1 [==============================] - 0s 27ms/step\n"
          ]
        },
        {
          "output_type": "display_data",
          "data": {
            "text/plain": [
              "<Figure size 300x300 with 1 Axes>"
            ],
            "image/png": "[encoded data removed]"
          },
          "metadata": {}
        },
        {
          "output_type": "stream",
          "name": "stdout",
          "text": [
            "Class probabilities:\n",
            "Class 0: 0.0070\n",
            "Class 1: 0.0003\n",
            "Class 2: 0.0009\n",
            "Class 3: 0.0043\n",
            "Class 4: 0.0003\n",
            "Class 5: 0.0016\n",
            "Class 6: 0.0094\n",
            "Class 7: 0.0021\n",
            "Class 8: 0.9650\n",
            "Class 9: 0.0091\n",
            "1/1 [==============================] - 0s 27ms/step\n"
          ]
        },
        {
          "output_type": "display_data",
          "data": {
            "text/plain": [
              "<Figure size 300x300 with 1 Axes>"
            ],
            "image/png": "[encoded data removed]"
          },
          "metadata": {}
        },
        {
          "output_type": "stream",
          "name": "stdout",
          "text": [
            "Class probabilities:\n",
            "Class 0: 0.7687\n",
            "Class 1: 0.0000\n",
            "Class 2: 0.0140\n",
            "Class 3: 0.0038\n",
            "Class 4: 0.0189\n",
            "Class 5: 0.0000\n",
            "Class 6: 0.1945\n",
            "Class 7: 0.0000\n",
            "Class 8: 0.0001\n",
            "Class 9: 0.0000\n",
            "1/1 [==============================] - 0s 31ms/step\n"
          ]
        },
        {
          "output_type": "display_data",
          "data": {
            "text/plain": [
              "<Figure size 300x300 with 1 Axes>"
            ],
            "image/png": "[encoded data removed]"
          },
          "metadata": {}
        },
        {
          "output_type": "stream",
          "name": "stdout",
          "text": [
            "Class probabilities:\n",
            "Class 0: 0.0000\n",
            "Class 1: 0.0000\n",
            "Class 2: 0.0000\n",
            "Class 3: 0.0000\n",
            "Class 4: 0.0000\n",
            "Class 5: 0.0015\n",
            "Class 6: 0.0001\n",
            "Class 7: 0.6288\n",
            "Class 8: 0.0005\n",
            "Class 9: 0.3690\n"
          ]
        }
      ]
    }
  ]
}